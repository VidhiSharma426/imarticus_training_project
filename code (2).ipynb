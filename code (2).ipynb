{
 "cells": [
  {
   "cell_type": "markdown",
   "id": "14212e04",
   "metadata": {},
   "source": [
    "# <b>LOGISTIC REGRESSION</b>"
   ]
  },
  {
   "cell_type": "code",
   "execution_count": 1,
   "id": "ba2ce8a8",
   "metadata": {},
   "outputs": [],
   "source": [
    "#is used to analyze relationship between a (0 or 1)dichotomous dependent variable and \n",
    "#categorical or numerical independent variables\n",
    "#it belongs to a class of models known as GLM(generalized linear model)\n",
    "#classifaction model\n",
    "#binary output\n"
   ]
  },
  {
   "cell_type": "markdown",
   "id": "733308c1",
   "metadata": {},
   "source": [
    "STEPS OF PERFORMING LOGISTIC REGRESSION:-"
   ]
  },
  {
   "cell_type": "code",
   "execution_count": 2,
   "id": "5ffb016d",
   "metadata": {},
   "outputs": [],
   "source": [
    "#1)importing libraraies\n",
    "#2)Data read\n",
    "#3)Data definition\n",
    "#4)EDA\n",
    "#5)Data processing\n",
    "#6)Splitting data into training and testing set\n",
    "#7)Training\n",
    "#8)Testing\n",
    "#9)Evaluation"
   ]
  },
  {
   "cell_type": "markdown",
   "id": "b39ff343",
   "metadata": {},
   "source": [
    "<b>Step 1:-</b>IMPORTING LIBRARIES"
   ]
  },
  {
   "cell_type": "code",
   "execution_count": 3,
   "id": "83fce0a3",
   "metadata": {},
   "outputs": [],
   "source": [
    "import numpy as nd\n",
    "import pandas as pd\n",
    "import matplotlib.pyplot as plt\n",
    "import seaborn as sns\n",
    "sns.set_style('whitegrid')\n",
    "%matplotlib inline\n",
    "\n",
    "import warnings\n",
    "warnings.filterwarnings('ignore')"
   ]
  },
  {
   "cell_type": "markdown",
   "id": "0ed0f618",
   "metadata": {},
   "source": [
    "<b>Step 2:-</b>DATA READING"
   ]
  },
  {
   "cell_type": "code",
   "execution_count": 4,
   "id": "ec686776",
   "metadata": {},
   "outputs": [],
   "source": [
    "#we have csv file ,in zip file\n",
    "#name of csv file is \"framingham.csv\" and zip file is \"Heart Disease.zip\"\n",
    "import zipfile\n",
    "with zipfile.ZipFile(\"Heart Disease.zip\",'r') as z:\n",
    "       with z.open(\"framingham.csv\") as f:\n",
    "          data=pd.read_csv(f,header=0)"
   ]
  },
  {
   "cell_type": "code",
   "execution_count": 5,
   "id": "8b8809d3",
   "metadata": {},
   "outputs": [
    {
     "data": {
      "text/html": [
       "<div>\n",
       "<style scoped>\n",
       "    .dataframe tbody tr th:only-of-type {\n",
       "        vertical-align: middle;\n",
       "    }\n",
       "\n",
       "    .dataframe tbody tr th {\n",
       "        vertical-align: top;\n",
       "    }\n",
       "\n",
       "    .dataframe thead th {\n",
       "        text-align: right;\n",
       "    }\n",
       "</style>\n",
       "<table border=\"1\" class=\"dataframe\">\n",
       "  <thead>\n",
       "    <tr style=\"text-align: right;\">\n",
       "      <th></th>\n",
       "      <th>male</th>\n",
       "      <th>age</th>\n",
       "      <th>education</th>\n",
       "      <th>currentSmoker</th>\n",
       "      <th>cigsPerDay</th>\n",
       "      <th>BPMeds</th>\n",
       "      <th>prevalentStroke</th>\n",
       "      <th>prevalentHyp</th>\n",
       "      <th>diabetes</th>\n",
       "      <th>totChol</th>\n",
       "      <th>sysBP</th>\n",
       "      <th>diaBP</th>\n",
       "      <th>BMI</th>\n",
       "      <th>heartRate</th>\n",
       "      <th>glucose</th>\n",
       "      <th>TenYearCHD</th>\n",
       "    </tr>\n",
       "  </thead>\n",
       "  <tbody>\n",
       "    <tr>\n",
       "      <th>0</th>\n",
       "      <td>1</td>\n",
       "      <td>39</td>\n",
       "      <td>4.0</td>\n",
       "      <td>0</td>\n",
       "      <td>0.0</td>\n",
       "      <td>0.0</td>\n",
       "      <td>0</td>\n",
       "      <td>0</td>\n",
       "      <td>0</td>\n",
       "      <td>195.0</td>\n",
       "      <td>106.0</td>\n",
       "      <td>70.0</td>\n",
       "      <td>26.97</td>\n",
       "      <td>80.0</td>\n",
       "      <td>77.0</td>\n",
       "      <td>0</td>\n",
       "    </tr>\n",
       "    <tr>\n",
       "      <th>1</th>\n",
       "      <td>0</td>\n",
       "      <td>46</td>\n",
       "      <td>2.0</td>\n",
       "      <td>0</td>\n",
       "      <td>0.0</td>\n",
       "      <td>0.0</td>\n",
       "      <td>0</td>\n",
       "      <td>0</td>\n",
       "      <td>0</td>\n",
       "      <td>250.0</td>\n",
       "      <td>121.0</td>\n",
       "      <td>81.0</td>\n",
       "      <td>28.73</td>\n",
       "      <td>95.0</td>\n",
       "      <td>76.0</td>\n",
       "      <td>0</td>\n",
       "    </tr>\n",
       "    <tr>\n",
       "      <th>2</th>\n",
       "      <td>1</td>\n",
       "      <td>48</td>\n",
       "      <td>1.0</td>\n",
       "      <td>1</td>\n",
       "      <td>20.0</td>\n",
       "      <td>0.0</td>\n",
       "      <td>0</td>\n",
       "      <td>0</td>\n",
       "      <td>0</td>\n",
       "      <td>245.0</td>\n",
       "      <td>127.5</td>\n",
       "      <td>80.0</td>\n",
       "      <td>25.34</td>\n",
       "      <td>75.0</td>\n",
       "      <td>70.0</td>\n",
       "      <td>0</td>\n",
       "    </tr>\n",
       "    <tr>\n",
       "      <th>3</th>\n",
       "      <td>0</td>\n",
       "      <td>61</td>\n",
       "      <td>3.0</td>\n",
       "      <td>1</td>\n",
       "      <td>30.0</td>\n",
       "      <td>0.0</td>\n",
       "      <td>0</td>\n",
       "      <td>1</td>\n",
       "      <td>0</td>\n",
       "      <td>225.0</td>\n",
       "      <td>150.0</td>\n",
       "      <td>95.0</td>\n",
       "      <td>28.58</td>\n",
       "      <td>65.0</td>\n",
       "      <td>103.0</td>\n",
       "      <td>1</td>\n",
       "    </tr>\n",
       "    <tr>\n",
       "      <th>4</th>\n",
       "      <td>0</td>\n",
       "      <td>46</td>\n",
       "      <td>3.0</td>\n",
       "      <td>1</td>\n",
       "      <td>23.0</td>\n",
       "      <td>0.0</td>\n",
       "      <td>0</td>\n",
       "      <td>0</td>\n",
       "      <td>0</td>\n",
       "      <td>285.0</td>\n",
       "      <td>130.0</td>\n",
       "      <td>84.0</td>\n",
       "      <td>23.10</td>\n",
       "      <td>85.0</td>\n",
       "      <td>85.0</td>\n",
       "      <td>0</td>\n",
       "    </tr>\n",
       "  </tbody>\n",
       "</table>\n",
       "</div>"
      ],
      "text/plain": [
       "   male  age  education  currentSmoker  cigsPerDay  BPMeds  prevalentStroke  \\\n",
       "0     1   39        4.0              0         0.0     0.0                0   \n",
       "1     0   46        2.0              0         0.0     0.0                0   \n",
       "2     1   48        1.0              1        20.0     0.0                0   \n",
       "3     0   61        3.0              1        30.0     0.0                0   \n",
       "4     0   46        3.0              1        23.0     0.0                0   \n",
       "\n",
       "   prevalentHyp  diabetes  totChol  sysBP  diaBP    BMI  heartRate  glucose  \\\n",
       "0             0         0    195.0  106.0   70.0  26.97       80.0     77.0   \n",
       "1             0         0    250.0  121.0   81.0  28.73       95.0     76.0   \n",
       "2             0         0    245.0  127.5   80.0  25.34       75.0     70.0   \n",
       "3             1         0    225.0  150.0   95.0  28.58       65.0    103.0   \n",
       "4             0         0    285.0  130.0   84.0  23.10       85.0     85.0   \n",
       "\n",
       "   TenYearCHD  \n",
       "0           0  \n",
       "1           0  \n",
       "2           0  \n",
       "3           1  \n",
       "4           0  "
      ]
     },
     "execution_count": 5,
     "metadata": {},
     "output_type": "execute_result"
    }
   ],
   "source": [
    "data.head()"
   ]
  },
  {
   "cell_type": "markdown",
   "id": "eed8a593",
   "metadata": {},
   "source": [
    "<b>Step 3:-</b>DATA DEFINITION...<br>\n",
    "<b><u>Variables :</u></b><br> \n",
    "<b>*sex:</b> male or female;(Nominal)<br>\n",
    "<b>*age:</b> age of the patient<br>\n",
    "<b>*currentSmoker:</b> whether or not the patient is a current smoker (Nominal) <br>\n",
    "<b>*cigsPerDay:</b> the number of cigarettes that the person smoked on average in one day. <br>\n",
    "<b><u>Medical( history):</u></b><br>\n",
    "<b>*BPMeds:</b> whether or not the patient was on blood pressure medication (Nominal) <br>\n",
    "<b>*prevalentStroke:</b> whether or not the patient had previously had a stroke (Nominal) <br>\n",
    "<b>*prevalentHyp:</b> whether or not the patient was hypertensive (Nominal) <br>\n",
    "<b>*diabetes:</b> whether or not the patient had diabetes (Nominal) <br>\n",
    "<b><u>Medical(current):</u></b><br>\n",
    "<b>*totChol:</b> total cholesterol level (Continuous) <br>\n",
    "<b>*sysBP:</b> systolic blood pressure (Continuous) <br>\n",
    "<b>*diaBP:</b> diastolic blood pressure (Continuous) <br>\n",
    "<b>*BMI:</b> Body Mass Index (Continuous) <br>\n",
    "<b>*heartRate:</b> heart rate (Continuous) <br>\n",
    "<b>*glucose:</b> glucose level (Continuous) <br>\n",
    "<b><u>Predict variable (desired target):</u></b><br>\n",
    "10 year risk of coronary heart disease CHD (binary: “1”, \n",
    "means “Yes”, “0” means “No”)<br>"
   ]
  },
  {
   "cell_type": "markdown",
   "id": "f4173a83",
   "metadata": {},
   "source": [
    "<b>Step 4:-</b>EXPLORATORY DATA ANALYSIS"
   ]
  },
  {
   "cell_type": "code",
   "execution_count": 6,
   "id": "a219a71c",
   "metadata": {},
   "outputs": [
    {
     "name": "stdout",
     "output_type": "stream",
     "text": [
      "<class 'pandas.core.frame.DataFrame'>\n",
      "RangeIndex: 4238 entries, 0 to 4237\n",
      "Data columns (total 16 columns):\n",
      " #   Column           Non-Null Count  Dtype  \n",
      "---  ------           --------------  -----  \n",
      " 0   male             4238 non-null   int64  \n",
      " 1   age              4238 non-null   int64  \n",
      " 2   education        4133 non-null   float64\n",
      " 3   currentSmoker    4238 non-null   int64  \n",
      " 4   cigsPerDay       4209 non-null   float64\n",
      " 5   BPMeds           4185 non-null   float64\n",
      " 6   prevalentStroke  4238 non-null   int64  \n",
      " 7   prevalentHyp     4238 non-null   int64  \n",
      " 8   diabetes         4238 non-null   int64  \n",
      " 9   totChol          4188 non-null   float64\n",
      " 10  sysBP            4238 non-null   float64\n",
      " 11  diaBP            4238 non-null   float64\n",
      " 12  BMI              4219 non-null   float64\n",
      " 13  heartRate        4237 non-null   float64\n",
      " 14  glucose          3850 non-null   float64\n",
      " 15  TenYearCHD       4238 non-null   int64  \n",
      "dtypes: float64(9), int64(7)\n",
      "memory usage: 529.9 KB\n"
     ]
    }
   ],
   "source": [
    "#getting the overview of data of its columns and their dtype,null values and names\n",
    "data.info()"
   ]
  },
  {
   "cell_type": "code",
   "execution_count": 7,
   "id": "1d9ed180",
   "metadata": {},
   "outputs": [
    {
     "data": {
      "text/plain": [
       "male                 0\n",
       "age                  0\n",
       "education          105\n",
       "currentSmoker        0\n",
       "cigsPerDay          29\n",
       "BPMeds              53\n",
       "prevalentStroke      0\n",
       "prevalentHyp         0\n",
       "diabetes             0\n",
       "totChol             50\n",
       "sysBP                0\n",
       "diaBP                0\n",
       "BMI                 19\n",
       "heartRate            1\n",
       "glucose            388\n",
       "TenYearCHD           0\n",
       "dtype: int64"
      ]
     },
     "execution_count": 7,
     "metadata": {},
     "output_type": "execute_result"
    }
   ],
   "source": [
    "#how many null values are in each column\n",
    "data.isnull().sum()"
   ]
  },
  {
   "cell_type": "code",
   "execution_count": 8,
   "id": "b6132f5f",
   "metadata": {},
   "outputs": [
    {
     "data": {
      "text/plain": [
       "male               4238\n",
       "age                4238\n",
       "education          4238\n",
       "currentSmoker      4238\n",
       "cigsPerDay         4238\n",
       "BPMeds             4238\n",
       "prevalentStroke    4238\n",
       "prevalentHyp       4238\n",
       "diabetes           4238\n",
       "totChol            4238\n",
       "sysBP              4238\n",
       "diaBP              4238\n",
       "BMI                4238\n",
       "heartRate          4238\n",
       "glucose            4238\n",
       "TenYearCHD         4238\n",
       "dtype: int64"
      ]
     },
     "execution_count": 8,
     "metadata": {},
     "output_type": "execute_result"
    }
   ],
   "source": [
    "#total entries of each column\n",
    "data.isnull().count()"
   ]
  },
  {
   "cell_type": "code",
   "execution_count": 9,
   "id": "2c625078",
   "metadata": {},
   "outputs": [
    {
     "data": {
      "text/plain": [
       "male               0.0\n",
       "age                0.0\n",
       "currentSmoker      0.0\n",
       "prevalentStroke    0.0\n",
       "prevalentHyp       0.0\n",
       "diabetes           0.0\n",
       "sysBP              0.0\n",
       "diaBP              0.0\n",
       "heartRate          0.0\n",
       "TenYearCHD         0.0\n",
       "BMI                0.4\n",
       "cigsPerDay         0.7\n",
       "totChol            1.2\n",
       "BPMeds             1.3\n",
       "education          2.5\n",
       "glucose            9.2\n",
       "dtype: float64"
      ]
     },
     "execution_count": 9,
     "metadata": {},
     "output_type": "execute_result"
    }
   ],
   "source": [
    "#percentage of having null value of each column \n",
    "data_missing=round((data.isnull().sum()/data.isnull().count())*100,1)\n",
    "data_missing.sort_values(ascending=True).head(16)#sort values(percentage) in ascending order"
   ]
  },
  {
   "cell_type": "code",
   "execution_count": 10,
   "id": "254838d9",
   "metadata": {},
   "outputs": [
    {
     "data": {
      "text/plain": [
       "<Axes: >"
      ]
     },
     "execution_count": 10,
     "metadata": {},
     "output_type": "execute_result"
    },
    {
     "data": {
      "image/png": "[encoded data removed]",
      "text/plain": [
       "<Figure size 640x480 with 1 Axes>"
      ]
     },
     "metadata": {},
     "output_type": "display_data"
    }
   ],
   "source": [
    "#show the no. of null values \n",
    "sns.heatmap(data=data.isnull(),yticklabels=False,\n",
    "           cbar=False,cmap='magma',annot=False)"
   ]
  },
  {
   "cell_type": "code",
   "execution_count": 11,
   "id": "5a9fc3ac",
   "metadata": {},
   "outputs": [
    {
     "data": {
      "text/plain": [
       "<Axes: xlabel='TenYearCHD', ylabel='count'>"
      ]
     },
     "execution_count": 11,
     "metadata": {},
     "output_type": "execute_result"
    },
    {
     "data": {
      "image/png": "[encoded data removed]",
      "text/plain": [
       "<Figure size 640x480 with 1 Axes>"
      ]
     },
     "metadata": {},
     "output_type": "display_data"
    }
   ],
   "source": [
    "#this will show that which and how much the risk of having heart disease\n",
    "#result is having heart disease is less chance than having it.\n",
    "sns.countplot(x='TenYearCHD',data=data)"
   ]
  },
  {
   "cell_type": "code",
   "execution_count": 12,
   "id": "76b7e053",
   "metadata": {},
   "outputs": [
    {
     "data": {
      "text/plain": [
       "<Axes: xlabel='TenYearCHD', ylabel='count'>"
      ]
     },
     "execution_count": 12,
     "metadata": {},
     "output_type": "execute_result"
    },
    {
     "data": {
      "image/png": "[encoded data removed]",
      "text/plain": [
       "<Figure size 640x480 with 1 Axes>"
      ]
     },
     "metadata": {},
     "output_type": "display_data"
    }
   ],
   "source": [
    "#this show that in male  heart disease is high than female \n",
    "sns.countplot(x='TenYearCHD',hue='male',data=data)"
   ]
  },
  {
   "cell_type": "code",
   "execution_count": 13,
   "id": "d0bd6394",
   "metadata": {},
   "outputs": [
    {
     "data": {
      "text/plain": [
       "<Axes: xlabel='TenYearCHD', ylabel='count'>"
      ]
     },
     "execution_count": 13,
     "metadata": {},
     "output_type": "execute_result"
    },
    {
     "data": {
      "image/png": "[encoded data removed]",
      "text/plain": [
       "<Figure size 640x480 with 1 Axes>"
      ]
     },
     "metadata": {},
     "output_type": "display_data"
    }
   ],
   "source": [
    "#effect of smoking on ten year CHD\n",
    "sns.countplot(x='TenYearCHD',hue='currentSmoker',data=data)"
   ]
  },
  {
   "cell_type": "markdown",
   "id": "01d0855c",
   "metadata": {},
   "source": [
    "<b>Step 5:-</b>DATA PROCESSING"
   ]
  },
  {
   "cell_type": "code",
   "execution_count": 14,
   "id": "8f0f54a3",
   "metadata": {},
   "outputs": [
    {
     "data": {
      "text/html": [
       "<div>\n",
       "<style scoped>\n",
       "    .dataframe tbody tr th:only-of-type {\n",
       "        vertical-align: middle;\n",
       "    }\n",
       "\n",
       "    .dataframe tbody tr th {\n",
       "        vertical-align: top;\n",
       "    }\n",
       "\n",
       "    .dataframe thead th {\n",
       "        text-align: right;\n",
       "    }\n",
       "</style>\n",
       "<table border=\"1\" class=\"dataframe\">\n",
       "  <thead>\n",
       "    <tr style=\"text-align: right;\">\n",
       "      <th></th>\n",
       "      <th>glucose</th>\n",
       "    </tr>\n",
       "    <tr>\n",
       "      <th>male</th>\n",
       "      <th></th>\n",
       "    </tr>\n",
       "  </thead>\n",
       "  <tbody>\n",
       "    <tr>\n",
       "      <th>0</th>\n",
       "      <td>82.0</td>\n",
       "    </tr>\n",
       "    <tr>\n",
       "      <th>1</th>\n",
       "      <td>82.0</td>\n",
       "    </tr>\n",
       "  </tbody>\n",
       "</table>\n",
       "</div>"
      ],
      "text/plain": [
       "      glucose\n",
       "male         \n",
       "0        82.0\n",
       "1        82.0"
      ]
     },
     "execution_count": 14,
     "metadata": {},
     "output_type": "execute_result"
    }
   ],
   "source": [
    "#according to gender,average glucose level \n",
    "round(data[['male','glucose']].groupby('male').mean())"
   ]
  },
  {
   "cell_type": "code",
   "execution_count": 19,
   "id": "9bd4c006",
   "metadata": {},
   "outputs": [
    {
     "data": {
      "text/plain": [
       "0      77.0\n",
       "1      76.0\n",
       "2      70.0\n",
       "3     103.0\n",
       "4      85.0\n",
       "5      99.0\n",
       "6      85.0\n",
       "7      78.0\n",
       "8      79.0\n",
       "9      88.0\n",
       "10     76.0\n",
       "11     61.0\n",
       "12     64.0\n",
       "13     84.0\n",
       "14     82.0\n",
       "15     70.0\n",
       "16     72.0\n",
       "17     89.0\n",
       "18     78.0\n",
       "19     65.0\n",
       "Name: glucose, dtype: float64"
      ]
     },
     "execution_count": 19,
     "metadata": {},
     "output_type": "execute_result"
    }
   ],
   "source": [
    "#fill the null values in glucose column by 82 which is average glucose level\n",
    "data['glucose'].fillna(82,inplace=True)\n",
    "data['glucose'].head(20)"
   ]
  },
  {
   "cell_type": "code",
   "execution_count": 20,
   "id": "bf4a0139",
   "metadata": {},
   "outputs": [
    {
     "data": {
      "text/html": [
       "<div>\n",
       "<style scoped>\n",
       "    .dataframe tbody tr th:only-of-type {\n",
       "        vertical-align: middle;\n",
       "    }\n",
       "\n",
       "    .dataframe tbody tr th {\n",
       "        vertical-align: top;\n",
       "    }\n",
       "\n",
       "    .dataframe thead th {\n",
       "        text-align: right;\n",
       "    }\n",
       "</style>\n",
       "<table border=\"1\" class=\"dataframe\">\n",
       "  <thead>\n",
       "    <tr style=\"text-align: right;\">\n",
       "      <th></th>\n",
       "      <th>cigsPerDay</th>\n",
       "    </tr>\n",
       "    <tr>\n",
       "      <th>male</th>\n",
       "      <th></th>\n",
       "    </tr>\n",
       "  </thead>\n",
       "  <tbody>\n",
       "    <tr>\n",
       "      <th>0</th>\n",
       "      <td>6.0</td>\n",
       "    </tr>\n",
       "    <tr>\n",
       "      <th>1</th>\n",
       "      <td>13.0</td>\n",
       "    </tr>\n",
       "  </tbody>\n",
       "</table>\n",
       "</div>"
      ],
      "text/plain": [
       "      cigsPerDay\n",
       "male            \n",
       "0            6.0\n",
       "1           13.0"
      ]
     },
     "execution_count": 20,
     "metadata": {},
     "output_type": "execute_result"
    }
   ],
   "source": [
    "#according to gender,average cigeratte per day \n",
    "round(data[['male','cigsPerDay']].groupby('male').mean())"
   ]
  },
  {
   "cell_type": "code",
   "execution_count": 21,
   "id": "14674143",
   "metadata": {},
   "outputs": [],
   "source": [
    "#define a function which is used to fill null values of cigsPerDay column with its average value\n",
    "def  impute_cigs(cig_sex):\n",
    "    male=cig_sex[0]\n",
    "    cigsPerDay=cig_sex[1]\n",
    "    if pd.isnull(cigsPerDay):\n",
    "        if male==1:\n",
    "            return 13\n",
    "        else:\n",
    "            return 6\n",
    "    else:\n",
    "        return cigsPerDay"
   ]
  },
  {
   "cell_type": "code",
   "execution_count": 22,
   "id": "5ee27388",
   "metadata": {},
   "outputs": [
    {
     "data": {
      "text/plain": [
       "0        0.0\n",
       "1        0.0\n",
       "2       20.0\n",
       "3       30.0\n",
       "4       23.0\n",
       "        ... \n",
       "4233     1.0\n",
       "4234    43.0\n",
       "4235    20.0\n",
       "4236    15.0\n",
       "4237     0.0\n",
       "Name: cigsPerDay, Length: 4238, dtype: float64"
      ]
     },
     "execution_count": 22,
     "metadata": {},
     "output_type": "execute_result"
    }
   ],
   "source": [
    "#call function using apply method to fill null values\n",
    "data['cigsPerDay']=data[['male','cigsPerDay']].apply(impute_cigs,axis=1)\n",
    "data['cigsPerDay']\n"
   ]
  },
  {
   "cell_type": "code",
   "execution_count": 23,
   "id": "c118c317",
   "metadata": {},
   "outputs": [
    {
     "data": {
      "text/html": [
       "<div>\n",
       "<style scoped>\n",
       "    .dataframe tbody tr th:only-of-type {\n",
       "        vertical-align: middle;\n",
       "    }\n",
       "\n",
       "    .dataframe tbody tr th {\n",
       "        vertical-align: top;\n",
       "    }\n",
       "\n",
       "    .dataframe thead th {\n",
       "        text-align: right;\n",
       "    }\n",
       "</style>\n",
       "<table border=\"1\" class=\"dataframe\">\n",
       "  <thead>\n",
       "    <tr style=\"text-align: right;\">\n",
       "      <th></th>\n",
       "      <th>BMI</th>\n",
       "    </tr>\n",
       "    <tr>\n",
       "      <th>male</th>\n",
       "      <th></th>\n",
       "    </tr>\n",
       "  </thead>\n",
       "  <tbody>\n",
       "    <tr>\n",
       "      <th>0</th>\n",
       "      <td>26.0</td>\n",
       "    </tr>\n",
       "    <tr>\n",
       "      <th>1</th>\n",
       "      <td>26.0</td>\n",
       "    </tr>\n",
       "  </tbody>\n",
       "</table>\n",
       "</div>"
      ],
      "text/plain": [
       "       BMI\n",
       "male      \n",
       "0     26.0\n",
       "1     26.0"
      ]
     },
     "execution_count": 23,
     "metadata": {},
     "output_type": "execute_result"
    }
   ],
   "source": [
    "#acc. to gender,find average BMI value\n",
    "round(data[['male','BMI']].groupby('male').mean())"
   ]
  },
  {
   "cell_type": "code",
   "execution_count": 24,
   "id": "ae73c66f",
   "metadata": {},
   "outputs": [],
   "source": [
    "#fill null values of BMI ,with its average value\n",
    "data['BMI'].fillna(value=data['BMI'].mean(),inplace=True)"
   ]
  },
  {
   "cell_type": "code",
   "execution_count": 25,
   "id": "94015cc2",
   "metadata": {},
   "outputs": [
    {
     "data": {
      "text/plain": [
       "<Axes: >"
      ]
     },
     "execution_count": 25,
     "metadata": {},
     "output_type": "execute_result"
    },
    {
     "data": {
      "image/png": "[encoded data removed]",
      "text/plain": [
       "<Figure size 640x480 with 2 Axes>"
      ]
     },
     "metadata": {},
     "output_type": "display_data"
    }
   ],
   "source": [
    "#now,have a look at presence of null values in each column\n",
    "sns.heatmap(data=data.isnull())"
   ]
  },
  {
   "cell_type": "code",
   "execution_count": 27,
   "id": "99c7dbcb",
   "metadata": {},
   "outputs": [],
   "source": [
    "#here,education column has  no role to predict TenYearCHD so we drop it.\n",
    "data.drop(['education'],inplace=True,axis=1)"
   ]
  },
  {
   "cell_type": "code",
   "execution_count": 28,
   "id": "974fef36",
   "metadata": {},
   "outputs": [
    {
     "data": {
      "text/html": [
       "<div>\n",
       "<style scoped>\n",
       "    .dataframe tbody tr th:only-of-type {\n",
       "        vertical-align: middle;\n",
       "    }\n",
       "\n",
       "    .dataframe tbody tr th {\n",
       "        vertical-align: top;\n",
       "    }\n",
       "\n",
       "    .dataframe thead th {\n",
       "        text-align: right;\n",
       "    }\n",
       "</style>\n",
       "<table border=\"1\" class=\"dataframe\">\n",
       "  <thead>\n",
       "    <tr style=\"text-align: right;\">\n",
       "      <th></th>\n",
       "      <th>BPMeds</th>\n",
       "    </tr>\n",
       "    <tr>\n",
       "      <th>male</th>\n",
       "      <th></th>\n",
       "    </tr>\n",
       "  </thead>\n",
       "  <tbody>\n",
       "    <tr>\n",
       "      <th>0</th>\n",
       "      <td>0.0</td>\n",
       "    </tr>\n",
       "    <tr>\n",
       "      <th>1</th>\n",
       "      <td>0.0</td>\n",
       "    </tr>\n",
       "  </tbody>\n",
       "</table>\n",
       "</div>"
      ],
      "text/plain": [
       "      BPMeds\n",
       "male        \n",
       "0        0.0\n",
       "1        0.0"
      ]
     },
     "execution_count": 28,
     "metadata": {},
     "output_type": "execute_result"
    }
   ],
   "source": [
    "#acc. to gender,average BPMeds value\n",
    "round(data[['male','BPMeds']].groupby('male').mean())"
   ]
  },
  {
   "cell_type": "code",
   "execution_count": 29,
   "id": "31416c79",
   "metadata": {},
   "outputs": [],
   "source": [
    "#fill null values of BPMeds with its average value which is 0\n",
    "data['BPMeds'].fillna(0,inplace=True)"
   ]
  },
  {
   "cell_type": "code",
   "execution_count": 30,
   "id": "de998bcd",
   "metadata": {},
   "outputs": [
    {
     "data": {
      "text/plain": [
       "<Axes: >"
      ]
     },
     "execution_count": 30,
     "metadata": {},
     "output_type": "execute_result"
    },
    {
     "data": {
      "image/png": "[encoded data removed]",
      "text/plain": [
       "<Figure size 640x480 with 2 Axes>"
      ]
     },
     "metadata": {},
     "output_type": "display_data"
    }
   ],
   "source": [
    "#acc. to heatmap,only totChol ahs some null values\n",
    "sns.heatmap(data=data.isnull())"
   ]
  },
  {
   "cell_type": "code",
   "execution_count": 31,
   "id": "76971d5a",
   "metadata": {},
   "outputs": [
    {
     "data": {
      "text/plain": [
       "237"
      ]
     },
     "execution_count": 31,
     "metadata": {},
     "output_type": "execute_result"
    }
   ],
   "source": [
    "#average totChol value\n",
    "round(data['totChol'].mean())"
   ]
  },
  {
   "cell_type": "code",
   "execution_count": 32,
   "id": "a712ced8",
   "metadata": {},
   "outputs": [],
   "source": [
    "#fill NaN with its average value\n",
    "data['totChol'].fillna(value=round(data['totChol'].mean()),inplace=True)"
   ]
  },
  {
   "cell_type": "code",
   "execution_count": 33,
   "id": "a69a738d",
   "metadata": {},
   "outputs": [
    {
     "data": {
      "text/plain": [
       "<Axes: >"
      ]
     },
     "execution_count": 33,
     "metadata": {},
     "output_type": "execute_result"
    },
    {
     "data": {
      "image/png": "[encoded data removed]",
      "text/plain": [
       "<Figure size 640x480 with 2 Axes>"
      ]
     },
     "metadata": {},
     "output_type": "display_data"
    }
   ],
   "source": [
    "#data cleaning is done ,there is no null value\n",
    "sns.heatmap(data=data.isnull())"
   ]
  },
  {
   "cell_type": "markdown",
   "id": "c6735ef9",
   "metadata": {},
   "source": [
    "<b>Step 6:-</b>SPLITTING DATA"
   ]
  },
  {
   "cell_type": "code",
   "execution_count": 71,
   "id": "3c941243",
   "metadata": {},
   "outputs": [],
   "source": [
    "#TenYearCHD is the predict variable so it becomes 'y' and remaining columns are 'x' \n",
    "x=data.drop(['TenYearCHD'],axis=1)\n",
    "y=data['TenYearCHD']"
   ]
  },
  {
   "cell_type": "code",
   "execution_count": 74,
   "id": "313d2aac",
   "metadata": {},
   "outputs": [],
   "source": [
    "#import train_test_split function to split 'data-->x and y' into testing and training data\n",
    "from sklearn.model_selection import train_test_split\n",
    "X_train,X_test,Y_train,Y_test=train_test_split(x,y\n",
    "                                              ,test_size=0.33,random_state=42)\n",
    "#percentage of test set is 33%."
   ]
  },
  {
   "cell_type": "code",
   "execution_count": 75,
   "id": "07c91936",
   "metadata": {},
   "outputs": [
    {
     "data": {
      "text/html": [
       "<div>\n",
       "<style scoped>\n",
       "    .dataframe tbody tr th:only-of-type {\n",
       "        vertical-align: middle;\n",
       "    }\n",
       "\n",
       "    .dataframe tbody tr th {\n",
       "        vertical-align: top;\n",
       "    }\n",
       "\n",
       "    .dataframe thead th {\n",
       "        text-align: right;\n",
       "    }\n",
       "</style>\n",
       "<table border=\"1\" class=\"dataframe\">\n",
       "  <thead>\n",
       "    <tr style=\"text-align: right;\">\n",
       "      <th></th>\n",
       "      <th>male</th>\n",
       "      <th>age</th>\n",
       "      <th>currentSmoker</th>\n",
       "      <th>cigsPerDay</th>\n",
       "      <th>BPMeds</th>\n",
       "      <th>prevalentStroke</th>\n",
       "      <th>prevalentHyp</th>\n",
       "      <th>diabetes</th>\n",
       "      <th>totChol</th>\n",
       "      <th>sysBP</th>\n",
       "      <th>diaBP</th>\n",
       "      <th>BMI</th>\n",
       "      <th>heartRate</th>\n",
       "      <th>glucose</th>\n",
       "    </tr>\n",
       "  </thead>\n",
       "  <tbody>\n",
       "    <tr>\n",
       "      <th>3674</th>\n",
       "      <td>0</td>\n",
       "      <td>69</td>\n",
       "      <td>0</td>\n",
       "      <td>0.0</td>\n",
       "      <td>1.0</td>\n",
       "      <td>0</td>\n",
       "      <td>1</td>\n",
       "      <td>0</td>\n",
       "      <td>203.0</td>\n",
       "      <td>166.0</td>\n",
       "      <td>90.0</td>\n",
       "      <td>25.40</td>\n",
       "      <td>77.0</td>\n",
       "      <td>80.0</td>\n",
       "    </tr>\n",
       "    <tr>\n",
       "      <th>3394</th>\n",
       "      <td>0</td>\n",
       "      <td>57</td>\n",
       "      <td>1</td>\n",
       "      <td>9.0</td>\n",
       "      <td>0.0</td>\n",
       "      <td>0</td>\n",
       "      <td>0</td>\n",
       "      <td>0</td>\n",
       "      <td>382.0</td>\n",
       "      <td>140.0</td>\n",
       "      <td>94.0</td>\n",
       "      <td>21.20</td>\n",
       "      <td>98.0</td>\n",
       "      <td>70.0</td>\n",
       "    </tr>\n",
       "    <tr>\n",
       "      <th>3054</th>\n",
       "      <td>0</td>\n",
       "      <td>57</td>\n",
       "      <td>1</td>\n",
       "      <td>20.0</td>\n",
       "      <td>1.0</td>\n",
       "      <td>0</td>\n",
       "      <td>1</td>\n",
       "      <td>0</td>\n",
       "      <td>315.0</td>\n",
       "      <td>193.0</td>\n",
       "      <td>109.0</td>\n",
       "      <td>27.99</td>\n",
       "      <td>70.0</td>\n",
       "      <td>74.0</td>\n",
       "    </tr>\n",
       "    <tr>\n",
       "      <th>3714</th>\n",
       "      <td>1</td>\n",
       "      <td>53</td>\n",
       "      <td>0</td>\n",
       "      <td>0.0</td>\n",
       "      <td>0.0</td>\n",
       "      <td>0</td>\n",
       "      <td>1</td>\n",
       "      <td>0</td>\n",
       "      <td>198.0</td>\n",
       "      <td>142.5</td>\n",
       "      <td>82.0</td>\n",
       "      <td>23.84</td>\n",
       "      <td>57.0</td>\n",
       "      <td>78.0</td>\n",
       "    </tr>\n",
       "    <tr>\n",
       "      <th>3839</th>\n",
       "      <td>1</td>\n",
       "      <td>63</td>\n",
       "      <td>0</td>\n",
       "      <td>0.0</td>\n",
       "      <td>0.0</td>\n",
       "      <td>0</td>\n",
       "      <td>1</td>\n",
       "      <td>1</td>\n",
       "      <td>260.0</td>\n",
       "      <td>155.5</td>\n",
       "      <td>98.0</td>\n",
       "      <td>30.08</td>\n",
       "      <td>67.0</td>\n",
       "      <td>109.0</td>\n",
       "    </tr>\n",
       "    <tr>\n",
       "      <th>...</th>\n",
       "      <td>...</td>\n",
       "      <td>...</td>\n",
       "      <td>...</td>\n",
       "      <td>...</td>\n",
       "      <td>...</td>\n",
       "      <td>...</td>\n",
       "      <td>...</td>\n",
       "      <td>...</td>\n",
       "      <td>...</td>\n",
       "      <td>...</td>\n",
       "      <td>...</td>\n",
       "      <td>...</td>\n",
       "      <td>...</td>\n",
       "      <td>...</td>\n",
       "    </tr>\n",
       "    <tr>\n",
       "      <th>3445</th>\n",
       "      <td>0</td>\n",
       "      <td>58</td>\n",
       "      <td>1</td>\n",
       "      <td>2.0</td>\n",
       "      <td>0.0</td>\n",
       "      <td>0</td>\n",
       "      <td>0</td>\n",
       "      <td>0</td>\n",
       "      <td>271.0</td>\n",
       "      <td>146.0</td>\n",
       "      <td>92.0</td>\n",
       "      <td>23.07</td>\n",
       "      <td>75.0</td>\n",
       "      <td>83.0</td>\n",
       "    </tr>\n",
       "    <tr>\n",
       "      <th>466</th>\n",
       "      <td>0</td>\n",
       "      <td>57</td>\n",
       "      <td>1</td>\n",
       "      <td>15.0</td>\n",
       "      <td>0.0</td>\n",
       "      <td>0</td>\n",
       "      <td>0</td>\n",
       "      <td>0</td>\n",
       "      <td>250.0</td>\n",
       "      <td>125.0</td>\n",
       "      <td>74.0</td>\n",
       "      <td>21.08</td>\n",
       "      <td>80.0</td>\n",
       "      <td>72.0</td>\n",
       "    </tr>\n",
       "    <tr>\n",
       "      <th>3093</th>\n",
       "      <td>1</td>\n",
       "      <td>40</td>\n",
       "      <td>0</td>\n",
       "      <td>0.0</td>\n",
       "      <td>0.0</td>\n",
       "      <td>0</td>\n",
       "      <td>1</td>\n",
       "      <td>0</td>\n",
       "      <td>192.0</td>\n",
       "      <td>141.5</td>\n",
       "      <td>108.5</td>\n",
       "      <td>36.01</td>\n",
       "      <td>76.0</td>\n",
       "      <td>78.0</td>\n",
       "    </tr>\n",
       "    <tr>\n",
       "      <th>3773</th>\n",
       "      <td>1</td>\n",
       "      <td>50</td>\n",
       "      <td>1</td>\n",
       "      <td>30.0</td>\n",
       "      <td>0.0</td>\n",
       "      <td>0</td>\n",
       "      <td>0</td>\n",
       "      <td>0</td>\n",
       "      <td>196.0</td>\n",
       "      <td>131.0</td>\n",
       "      <td>80.0</td>\n",
       "      <td>20.42</td>\n",
       "      <td>108.0</td>\n",
       "      <td>82.0</td>\n",
       "    </tr>\n",
       "    <tr>\n",
       "      <th>861</th>\n",
       "      <td>1</td>\n",
       "      <td>40</td>\n",
       "      <td>1</td>\n",
       "      <td>30.0</td>\n",
       "      <td>0.0</td>\n",
       "      <td>0</td>\n",
       "      <td>0</td>\n",
       "      <td>0</td>\n",
       "      <td>165.0</td>\n",
       "      <td>128.0</td>\n",
       "      <td>83.0</td>\n",
       "      <td>24.71</td>\n",
       "      <td>69.0</td>\n",
       "      <td>60.0</td>\n",
       "    </tr>\n",
       "  </tbody>\n",
       "</table>\n",
       "<p>2838 rows × 14 columns</p>\n",
       "</div>"
      ],
      "text/plain": [
       "      male  age  currentSmoker  cigsPerDay  BPMeds  prevalentStroke  \\\n",
       "3674     0   69              0         0.0     1.0                0   \n",
       "3394     0   57              1         9.0     0.0                0   \n",
       "3054     0   57              1        20.0     1.0                0   \n",
       "3714     1   53              0         0.0     0.0                0   \n",
       "3839     1   63              0         0.0     0.0                0   \n",
       "...    ...  ...            ...         ...     ...              ...   \n",
       "3445     0   58              1         2.0     0.0                0   \n",
       "466      0   57              1        15.0     0.0                0   \n",
       "3093     1   40              0         0.0     0.0                0   \n",
       "3773     1   50              1        30.0     0.0                0   \n",
       "861      1   40              1        30.0     0.0                0   \n",
       "\n",
       "      prevalentHyp  diabetes  totChol  sysBP  diaBP    BMI  heartRate  glucose  \n",
       "3674             1         0    203.0  166.0   90.0  25.40       77.0     80.0  \n",
       "3394             0         0    382.0  140.0   94.0  21.20       98.0     70.0  \n",
       "3054             1         0    315.0  193.0  109.0  27.99       70.0     74.0  \n",
       "3714             1         0    198.0  142.5   82.0  23.84       57.0     78.0  \n",
       "3839             1         1    260.0  155.5   98.0  30.08       67.0    109.0  \n",
       "...            ...       ...      ...    ...    ...    ...        ...      ...  \n",
       "3445             0         0    271.0  146.0   92.0  23.07       75.0     83.0  \n",
       "466              0         0    250.0  125.0   74.0  21.08       80.0     72.0  \n",
       "3093             1         0    192.0  141.5  108.5  36.01       76.0     78.0  \n",
       "3773             0         0    196.0  131.0   80.0  20.42      108.0     82.0  \n",
       "861              0         0    165.0  128.0   83.0  24.71       69.0     60.0  \n",
       "\n",
       "[2838 rows x 14 columns]"
      ]
     },
     "execution_count": 75,
     "metadata": {},
     "output_type": "execute_result"
    }
   ],
   "source": [
    "#training input\n",
    "X_train"
   ]
  },
  {
   "cell_type": "code",
   "execution_count": 76,
   "id": "4e496c79",
   "metadata": {},
   "outputs": [
    {
     "data": {
      "text/html": [
       "<div>\n",
       "<style scoped>\n",
       "    .dataframe tbody tr th:only-of-type {\n",
       "        vertical-align: middle;\n",
       "    }\n",
       "\n",
       "    .dataframe tbody tr th {\n",
       "        vertical-align: top;\n",
       "    }\n",
       "\n",
       "    .dataframe thead th {\n",
       "        text-align: right;\n",
       "    }\n",
       "</style>\n",
       "<table border=\"1\" class=\"dataframe\">\n",
       "  <thead>\n",
       "    <tr style=\"text-align: right;\">\n",
       "      <th></th>\n",
       "      <th>male</th>\n",
       "      <th>age</th>\n",
       "      <th>currentSmoker</th>\n",
       "      <th>cigsPerDay</th>\n",
       "      <th>BPMeds</th>\n",
       "      <th>prevalentStroke</th>\n",
       "      <th>prevalentHyp</th>\n",
       "      <th>diabetes</th>\n",
       "      <th>totChol</th>\n",
       "      <th>sysBP</th>\n",
       "      <th>diaBP</th>\n",
       "      <th>BMI</th>\n",
       "      <th>heartRate</th>\n",
       "      <th>glucose</th>\n",
       "    </tr>\n",
       "  </thead>\n",
       "  <tbody>\n",
       "    <tr>\n",
       "      <th>3189</th>\n",
       "      <td>0</td>\n",
       "      <td>49</td>\n",
       "      <td>0</td>\n",
       "      <td>0.0</td>\n",
       "      <td>0.0</td>\n",
       "      <td>0</td>\n",
       "      <td>0</td>\n",
       "      <td>0</td>\n",
       "      <td>165.0</td>\n",
       "      <td>120.0</td>\n",
       "      <td>66.5</td>\n",
       "      <td>21.45</td>\n",
       "      <td>71.0</td>\n",
       "      <td>74.0</td>\n",
       "    </tr>\n",
       "    <tr>\n",
       "      <th>765</th>\n",
       "      <td>1</td>\n",
       "      <td>50</td>\n",
       "      <td>1</td>\n",
       "      <td>9.0</td>\n",
       "      <td>0.0</td>\n",
       "      <td>0</td>\n",
       "      <td>0</td>\n",
       "      <td>0</td>\n",
       "      <td>296.0</td>\n",
       "      <td>119.0</td>\n",
       "      <td>90.0</td>\n",
       "      <td>23.55</td>\n",
       "      <td>75.0</td>\n",
       "      <td>69.0</td>\n",
       "    </tr>\n",
       "    <tr>\n",
       "      <th>3265</th>\n",
       "      <td>0</td>\n",
       "      <td>40</td>\n",
       "      <td>1</td>\n",
       "      <td>43.0</td>\n",
       "      <td>0.0</td>\n",
       "      <td>0</td>\n",
       "      <td>0</td>\n",
       "      <td>0</td>\n",
       "      <td>224.0</td>\n",
       "      <td>106.0</td>\n",
       "      <td>72.0</td>\n",
       "      <td>23.59</td>\n",
       "      <td>82.0</td>\n",
       "      <td>71.0</td>\n",
       "    </tr>\n",
       "    <tr>\n",
       "      <th>1968</th>\n",
       "      <td>0</td>\n",
       "      <td>52</td>\n",
       "      <td>1</td>\n",
       "      <td>9.0</td>\n",
       "      <td>0.0</td>\n",
       "      <td>0</td>\n",
       "      <td>0</td>\n",
       "      <td>0</td>\n",
       "      <td>249.0</td>\n",
       "      <td>112.0</td>\n",
       "      <td>75.0</td>\n",
       "      <td>22.54</td>\n",
       "      <td>72.0</td>\n",
       "      <td>71.0</td>\n",
       "    </tr>\n",
       "    <tr>\n",
       "      <th>2186</th>\n",
       "      <td>0</td>\n",
       "      <td>51</td>\n",
       "      <td>1</td>\n",
       "      <td>20.0</td>\n",
       "      <td>0.0</td>\n",
       "      <td>0</td>\n",
       "      <td>1</td>\n",
       "      <td>0</td>\n",
       "      <td>293.0</td>\n",
       "      <td>151.0</td>\n",
       "      <td>92.0</td>\n",
       "      <td>30.67</td>\n",
       "      <td>80.0</td>\n",
       "      <td>77.0</td>\n",
       "    </tr>\n",
       "    <tr>\n",
       "      <th>...</th>\n",
       "      <td>...</td>\n",
       "      <td>...</td>\n",
       "      <td>...</td>\n",
       "      <td>...</td>\n",
       "      <td>...</td>\n",
       "      <td>...</td>\n",
       "      <td>...</td>\n",
       "      <td>...</td>\n",
       "      <td>...</td>\n",
       "      <td>...</td>\n",
       "      <td>...</td>\n",
       "      <td>...</td>\n",
       "      <td>...</td>\n",
       "      <td>...</td>\n",
       "    </tr>\n",
       "    <tr>\n",
       "      <th>3966</th>\n",
       "      <td>1</td>\n",
       "      <td>64</td>\n",
       "      <td>0</td>\n",
       "      <td>0.0</td>\n",
       "      <td>0.0</td>\n",
       "      <td>0</td>\n",
       "      <td>0</td>\n",
       "      <td>0</td>\n",
       "      <td>263.0</td>\n",
       "      <td>102.5</td>\n",
       "      <td>63.5</td>\n",
       "      <td>28.82</td>\n",
       "      <td>64.0</td>\n",
       "      <td>99.0</td>\n",
       "    </tr>\n",
       "    <tr>\n",
       "      <th>4212</th>\n",
       "      <td>1</td>\n",
       "      <td>48</td>\n",
       "      <td>1</td>\n",
       "      <td>43.0</td>\n",
       "      <td>0.0</td>\n",
       "      <td>0</td>\n",
       "      <td>1</td>\n",
       "      <td>0</td>\n",
       "      <td>209.0</td>\n",
       "      <td>144.0</td>\n",
       "      <td>88.0</td>\n",
       "      <td>29.11</td>\n",
       "      <td>84.0</td>\n",
       "      <td>60.0</td>\n",
       "    </tr>\n",
       "    <tr>\n",
       "      <th>3423</th>\n",
       "      <td>1</td>\n",
       "      <td>52</td>\n",
       "      <td>0</td>\n",
       "      <td>0.0</td>\n",
       "      <td>0.0</td>\n",
       "      <td>0</td>\n",
       "      <td>1</td>\n",
       "      <td>0</td>\n",
       "      <td>220.0</td>\n",
       "      <td>151.0</td>\n",
       "      <td>102.0</td>\n",
       "      <td>25.82</td>\n",
       "      <td>95.0</td>\n",
       "      <td>85.0</td>\n",
       "    </tr>\n",
       "    <tr>\n",
       "      <th>3704</th>\n",
       "      <td>1</td>\n",
       "      <td>42</td>\n",
       "      <td>0</td>\n",
       "      <td>0.0</td>\n",
       "      <td>0.0</td>\n",
       "      <td>0</td>\n",
       "      <td>0</td>\n",
       "      <td>0</td>\n",
       "      <td>186.0</td>\n",
       "      <td>134.0</td>\n",
       "      <td>86.5</td>\n",
       "      <td>25.71</td>\n",
       "      <td>88.0</td>\n",
       "      <td>92.0</td>\n",
       "    </tr>\n",
       "    <tr>\n",
       "      <th>1937</th>\n",
       "      <td>0</td>\n",
       "      <td>59</td>\n",
       "      <td>0</td>\n",
       "      <td>0.0</td>\n",
       "      <td>0.0</td>\n",
       "      <td>0</td>\n",
       "      <td>1</td>\n",
       "      <td>0</td>\n",
       "      <td>410.0</td>\n",
       "      <td>142.0</td>\n",
       "      <td>79.0</td>\n",
       "      <td>25.58</td>\n",
       "      <td>78.0</td>\n",
       "      <td>90.0</td>\n",
       "    </tr>\n",
       "  </tbody>\n",
       "</table>\n",
       "<p>1399 rows × 14 columns</p>\n",
       "</div>"
      ],
      "text/plain": [
       "      male  age  currentSmoker  cigsPerDay  BPMeds  prevalentStroke  \\\n",
       "3189     0   49              0         0.0     0.0                0   \n",
       "765      1   50              1         9.0     0.0                0   \n",
       "3265     0   40              1        43.0     0.0                0   \n",
       "1968     0   52              1         9.0     0.0                0   \n",
       "2186     0   51              1        20.0     0.0                0   \n",
       "...    ...  ...            ...         ...     ...              ...   \n",
       "3966     1   64              0         0.0     0.0                0   \n",
       "4212     1   48              1        43.0     0.0                0   \n",
       "3423     1   52              0         0.0     0.0                0   \n",
       "3704     1   42              0         0.0     0.0                0   \n",
       "1937     0   59              0         0.0     0.0                0   \n",
       "\n",
       "      prevalentHyp  diabetes  totChol  sysBP  diaBP    BMI  heartRate  glucose  \n",
       "3189             0         0    165.0  120.0   66.5  21.45       71.0     74.0  \n",
       "765              0         0    296.0  119.0   90.0  23.55       75.0     69.0  \n",
       "3265             0         0    224.0  106.0   72.0  23.59       82.0     71.0  \n",
       "1968             0         0    249.0  112.0   75.0  22.54       72.0     71.0  \n",
       "2186             1         0    293.0  151.0   92.0  30.67       80.0     77.0  \n",
       "...            ...       ...      ...    ...    ...    ...        ...      ...  \n",
       "3966             0         0    263.0  102.5   63.5  28.82       64.0     99.0  \n",
       "4212             1         0    209.0  144.0   88.0  29.11       84.0     60.0  \n",
       "3423             1         0    220.0  151.0  102.0  25.82       95.0     85.0  \n",
       "3704             0         0    186.0  134.0   86.5  25.71       88.0     92.0  \n",
       "1937             1         0    410.0  142.0   79.0  25.58       78.0     90.0  \n",
       "\n",
       "[1399 rows x 14 columns]"
      ]
     },
     "execution_count": 76,
     "metadata": {},
     "output_type": "execute_result"
    }
   ],
   "source": [
    "#testing input\n",
    "X_test"
   ]
  },
  {
   "cell_type": "code",
   "execution_count": 77,
   "id": "9db89c41",
   "metadata": {},
   "outputs": [
    {
     "data": {
      "text/plain": [
       "3674    0\n",
       "3394    0\n",
       "3054    0\n",
       "3714    1\n",
       "3839    1\n",
       "       ..\n",
       "3445    1\n",
       "466     0\n",
       "3093    0\n",
       "3773    0\n",
       "861     0\n",
       "Name: TenYearCHD, Length: 2838, dtype: int64"
      ]
     },
     "execution_count": 77,
     "metadata": {},
     "output_type": "execute_result"
    }
   ],
   "source": [
    "#training output\n",
    "Y_train"
   ]
  },
  {
   "cell_type": "code",
   "execution_count": 78,
   "id": "b68d649d",
   "metadata": {},
   "outputs": [
    {
     "data": {
      "text/plain": [
       "3189    0\n",
       "765     1\n",
       "3265    0\n",
       "1968    1\n",
       "2186    0\n",
       "       ..\n",
       "3966    0\n",
       "4212    0\n",
       "3423    0\n",
       "3704    0\n",
       "1937    0\n",
       "Name: TenYearCHD, Length: 1399, dtype: int64"
      ]
     },
     "execution_count": 78,
     "metadata": {},
     "output_type": "execute_result"
    }
   ],
   "source": [
    "#testing output\n",
    "Y_test"
   ]
  },
  {
   "cell_type": "code",
   "execution_count": 51,
   "id": "157a17c8",
   "metadata": {},
   "outputs": [],
   "source": [
    "#to remove all null values if anyone remains\n",
    "data.dropna(inplace=True)"
   ]
  },
  {
   "cell_type": "code",
   "execution_count": 52,
   "id": "b81e51e0",
   "metadata": {},
   "outputs": [
    {
     "data": {
      "text/html": [
       "<div>\n",
       "<style scoped>\n",
       "    .dataframe tbody tr th:only-of-type {\n",
       "        vertical-align: middle;\n",
       "    }\n",
       "\n",
       "    .dataframe tbody tr th {\n",
       "        vertical-align: top;\n",
       "    }\n",
       "\n",
       "    .dataframe thead th {\n",
       "        text-align: right;\n",
       "    }\n",
       "</style>\n",
       "<table border=\"1\" class=\"dataframe\">\n",
       "  <thead>\n",
       "    <tr style=\"text-align: right;\">\n",
       "      <th></th>\n",
       "      <th>male</th>\n",
       "      <th>age</th>\n",
       "      <th>currentSmoker</th>\n",
       "      <th>cigsPerDay</th>\n",
       "      <th>BPMeds</th>\n",
       "      <th>prevalentStroke</th>\n",
       "      <th>prevalentHyp</th>\n",
       "      <th>diabetes</th>\n",
       "      <th>totChol</th>\n",
       "      <th>sysBP</th>\n",
       "      <th>diaBP</th>\n",
       "      <th>BMI</th>\n",
       "      <th>heartRate</th>\n",
       "      <th>glucose</th>\n",
       "      <th>TenYearCHD</th>\n",
       "    </tr>\n",
       "  </thead>\n",
       "  <tbody>\n",
       "    <tr>\n",
       "      <th>0</th>\n",
       "      <td>False</td>\n",
       "      <td>False</td>\n",
       "      <td>False</td>\n",
       "      <td>False</td>\n",
       "      <td>False</td>\n",
       "      <td>False</td>\n",
       "      <td>False</td>\n",
       "      <td>False</td>\n",
       "      <td>False</td>\n",
       "      <td>False</td>\n",
       "      <td>False</td>\n",
       "      <td>False</td>\n",
       "      <td>False</td>\n",
       "      <td>False</td>\n",
       "      <td>False</td>\n",
       "    </tr>\n",
       "    <tr>\n",
       "      <th>1</th>\n",
       "      <td>False</td>\n",
       "      <td>False</td>\n",
       "      <td>False</td>\n",
       "      <td>False</td>\n",
       "      <td>False</td>\n",
       "      <td>False</td>\n",
       "      <td>False</td>\n",
       "      <td>False</td>\n",
       "      <td>False</td>\n",
       "      <td>False</td>\n",
       "      <td>False</td>\n",
       "      <td>False</td>\n",
       "      <td>False</td>\n",
       "      <td>False</td>\n",
       "      <td>False</td>\n",
       "    </tr>\n",
       "    <tr>\n",
       "      <th>2</th>\n",
       "      <td>False</td>\n",
       "      <td>False</td>\n",
       "      <td>False</td>\n",
       "      <td>False</td>\n",
       "      <td>False</td>\n",
       "      <td>False</td>\n",
       "      <td>False</td>\n",
       "      <td>False</td>\n",
       "      <td>False</td>\n",
       "      <td>False</td>\n",
       "      <td>False</td>\n",
       "      <td>False</td>\n",
       "      <td>False</td>\n",
       "      <td>False</td>\n",
       "      <td>False</td>\n",
       "    </tr>\n",
       "    <tr>\n",
       "      <th>3</th>\n",
       "      <td>False</td>\n",
       "      <td>False</td>\n",
       "      <td>False</td>\n",
       "      <td>False</td>\n",
       "      <td>False</td>\n",
       "      <td>False</td>\n",
       "      <td>False</td>\n",
       "      <td>False</td>\n",
       "      <td>False</td>\n",
       "      <td>False</td>\n",
       "      <td>False</td>\n",
       "      <td>False</td>\n",
       "      <td>False</td>\n",
       "      <td>False</td>\n",
       "      <td>False</td>\n",
       "    </tr>\n",
       "    <tr>\n",
       "      <th>4</th>\n",
       "      <td>False</td>\n",
       "      <td>False</td>\n",
       "      <td>False</td>\n",
       "      <td>False</td>\n",
       "      <td>False</td>\n",
       "      <td>False</td>\n",
       "      <td>False</td>\n",
       "      <td>False</td>\n",
       "      <td>False</td>\n",
       "      <td>False</td>\n",
       "      <td>False</td>\n",
       "      <td>False</td>\n",
       "      <td>False</td>\n",
       "      <td>False</td>\n",
       "      <td>False</td>\n",
       "    </tr>\n",
       "    <tr>\n",
       "      <th>...</th>\n",
       "      <td>...</td>\n",
       "      <td>...</td>\n",
       "      <td>...</td>\n",
       "      <td>...</td>\n",
       "      <td>...</td>\n",
       "      <td>...</td>\n",
       "      <td>...</td>\n",
       "      <td>...</td>\n",
       "      <td>...</td>\n",
       "      <td>...</td>\n",
       "      <td>...</td>\n",
       "      <td>...</td>\n",
       "      <td>...</td>\n",
       "      <td>...</td>\n",
       "      <td>...</td>\n",
       "    </tr>\n",
       "    <tr>\n",
       "      <th>4233</th>\n",
       "      <td>False</td>\n",
       "      <td>False</td>\n",
       "      <td>False</td>\n",
       "      <td>False</td>\n",
       "      <td>False</td>\n",
       "      <td>False</td>\n",
       "      <td>False</td>\n",
       "      <td>False</td>\n",
       "      <td>False</td>\n",
       "      <td>False</td>\n",
       "      <td>False</td>\n",
       "      <td>False</td>\n",
       "      <td>False</td>\n",
       "      <td>False</td>\n",
       "      <td>False</td>\n",
       "    </tr>\n",
       "    <tr>\n",
       "      <th>4234</th>\n",
       "      <td>False</td>\n",
       "      <td>False</td>\n",
       "      <td>False</td>\n",
       "      <td>False</td>\n",
       "      <td>False</td>\n",
       "      <td>False</td>\n",
       "      <td>False</td>\n",
       "      <td>False</td>\n",
       "      <td>False</td>\n",
       "      <td>False</td>\n",
       "      <td>False</td>\n",
       "      <td>False</td>\n",
       "      <td>False</td>\n",
       "      <td>False</td>\n",
       "      <td>False</td>\n",
       "    </tr>\n",
       "    <tr>\n",
       "      <th>4235</th>\n",
       "      <td>False</td>\n",
       "      <td>False</td>\n",
       "      <td>False</td>\n",
       "      <td>False</td>\n",
       "      <td>False</td>\n",
       "      <td>False</td>\n",
       "      <td>False</td>\n",
       "      <td>False</td>\n",
       "      <td>False</td>\n",
       "      <td>False</td>\n",
       "      <td>False</td>\n",
       "      <td>False</td>\n",
       "      <td>False</td>\n",
       "      <td>False</td>\n",
       "      <td>False</td>\n",
       "    </tr>\n",
       "    <tr>\n",
       "      <th>4236</th>\n",
       "      <td>False</td>\n",
       "      <td>False</td>\n",
       "      <td>False</td>\n",
       "      <td>False</td>\n",
       "      <td>False</td>\n",
       "      <td>False</td>\n",
       "      <td>False</td>\n",
       "      <td>False</td>\n",
       "      <td>False</td>\n",
       "      <td>False</td>\n",
       "      <td>False</td>\n",
       "      <td>False</td>\n",
       "      <td>False</td>\n",
       "      <td>False</td>\n",
       "      <td>False</td>\n",
       "    </tr>\n",
       "    <tr>\n",
       "      <th>4237</th>\n",
       "      <td>False</td>\n",
       "      <td>False</td>\n",
       "      <td>False</td>\n",
       "      <td>False</td>\n",
       "      <td>False</td>\n",
       "      <td>False</td>\n",
       "      <td>False</td>\n",
       "      <td>False</td>\n",
       "      <td>False</td>\n",
       "      <td>False</td>\n",
       "      <td>False</td>\n",
       "      <td>False</td>\n",
       "      <td>False</td>\n",
       "      <td>False</td>\n",
       "      <td>False</td>\n",
       "    </tr>\n",
       "  </tbody>\n",
       "</table>\n",
       "<p>4237 rows × 15 columns</p>\n",
       "</div>"
      ],
      "text/plain": [
       "       male    age  currentSmoker  cigsPerDay  BPMeds  prevalentStroke  \\\n",
       "0     False  False          False       False   False            False   \n",
       "1     False  False          False       False   False            False   \n",
       "2     False  False          False       False   False            False   \n",
       "3     False  False          False       False   False            False   \n",
       "4     False  False          False       False   False            False   \n",
       "...     ...    ...            ...         ...     ...              ...   \n",
       "4233  False  False          False       False   False            False   \n",
       "4234  False  False          False       False   False            False   \n",
       "4235  False  False          False       False   False            False   \n",
       "4236  False  False          False       False   False            False   \n",
       "4237  False  False          False       False   False            False   \n",
       "\n",
       "      prevalentHyp  diabetes  totChol  sysBP  diaBP    BMI  heartRate  \\\n",
       "0            False     False    False  False  False  False      False   \n",
       "1            False     False    False  False  False  False      False   \n",
       "2            False     False    False  False  False  False      False   \n",
       "3            False     False    False  False  False  False      False   \n",
       "4            False     False    False  False  False  False      False   \n",
       "...            ...       ...      ...    ...    ...    ...        ...   \n",
       "4233         False     False    False  False  False  False      False   \n",
       "4234         False     False    False  False  False  False      False   \n",
       "4235         False     False    False  False  False  False      False   \n",
       "4236         False     False    False  False  False  False      False   \n",
       "4237         False     False    False  False  False  False      False   \n",
       "\n",
       "      glucose  TenYearCHD  \n",
       "0       False       False  \n",
       "1       False       False  \n",
       "2       False       False  \n",
       "3       False       False  \n",
       "4       False       False  \n",
       "...       ...         ...  \n",
       "4233    False       False  \n",
       "4234    False       False  \n",
       "4235    False       False  \n",
       "4236    False       False  \n",
       "4237    False       False  \n",
       "\n",
       "[4237 rows x 15 columns]"
      ]
     },
     "execution_count": 52,
     "metadata": {},
     "output_type": "execute_result"
    }
   ],
   "source": [
    "#it will show is there any null value or not\n",
    "data.isnull()"
   ]
  },
  {
   "cell_type": "code",
   "execution_count": 79,
   "id": "9312bfe5",
   "metadata": {},
   "outputs": [],
   "source": [
    "#import LogisticRegression function to fit the model\n",
    "from sklearn.linear_model import LogisticRegression\n",
    "logR=LogisticRegression()"
   ]
  },
  {
   "cell_type": "code",
   "execution_count": 80,
   "id": "7aac80fb",
   "metadata": {},
   "outputs": [
    {
     "data": {
      "text/html": [
       "<style>#sk-container-id-1 {color: black;background-color: white;}#sk-container-id-1 pre{padding: 0;}#sk-container-id-1 div.sk-toggleable {background-color: white;}#sk-container-id-1 label.sk-toggleable__label {cursor: pointer;display: block;width: 100%;margin-bottom: 0;padding: 0.3em;box-sizing: border-box;text-align: center;}#sk-container-id-1 label.sk-toggleable__label-arrow:before {content: \"▸\";float: left;margin-right: 0.25em;color: #696969;}#sk-container-id-1 label.sk-toggleable__label-arrow:hover:before {color: black;}#sk-container-id-1 div.sk-estimator:hover label.sk-toggleable__label-arrow:before {color: black;}#sk-container-id-1 div.sk-toggleable__content {max-height: 0;max-width: 0;overflow: hidden;text-align: left;background-color: #f0f8ff;}#sk-container-id-1 div.sk-toggleable__content pre {margin: 0.2em;color: black;border-radius: 0.25em;background-color: #f0f8ff;}#sk-container-id-1 input.sk-toggleable__control:checked~div.sk-toggleable__content {max-height: 200px;max-width: 100%;overflow: auto;}#sk-container-id-1 input.sk-toggleable__control:checked~label.sk-toggleable__label-arrow:before {content: \"▾\";}#sk-container-id-1 div.sk-estimator input.sk-toggleable__control:checked~label.sk-toggleable__label {background-color: #d4ebff;}#sk-container-id-1 div.sk-label input.sk-toggleable__control:checked~label.sk-toggleable__label {background-color: #d4ebff;}#sk-container-id-1 input.sk-hidden--visually {border: 0;clip: rect(1px 1px 1px 1px);clip: rect(1px, 1px, 1px, 1px);height: 1px;margin: -1px;overflow: hidden;padding: 0;position: absolute;width: 1px;}#sk-container-id-1 div.sk-estimator {font-family: monospace;background-color: #f0f8ff;border: 1px dotted black;border-radius: 0.25em;box-sizing: border-box;margin-bottom: 0.5em;}#sk-container-id-1 div.sk-estimator:hover {background-color: #d4ebff;}#sk-container-id-1 div.sk-parallel-item::after {content: \"\";width: 100%;border-bottom: 1px solid gray;flex-grow: 1;}#sk-container-id-1 div.sk-label:hover label.sk-toggleable__label {background-color: #d4ebff;}#sk-container-id-1 div.sk-serial::before {content: \"\";position: absolute;border-left: 1px solid gray;box-sizing: border-box;top: 0;bottom: 0;left: 50%;z-index: 0;}#sk-container-id-1 div.sk-serial {display: flex;flex-direction: column;align-items: center;background-color: white;padding-right: 0.2em;padding-left: 0.2em;position: relative;}#sk-container-id-1 div.sk-item {position: relative;z-index: 1;}#sk-container-id-1 div.sk-parallel {display: flex;align-items: stretch;justify-content: center;background-color: white;position: relative;}#sk-container-id-1 div.sk-item::before, #sk-container-id-1 div.sk-parallel-item::before {content: \"\";position: absolute;border-left: 1px solid gray;box-sizing: border-box;top: 0;bottom: 0;left: 50%;z-index: -1;}#sk-container-id-1 div.sk-parallel-item {display: flex;flex-direction: column;z-index: 1;position: relative;background-color: white;}#sk-container-id-1 div.sk-parallel-item:first-child::after {align-self: flex-end;width: 50%;}#sk-container-id-1 div.sk-parallel-item:last-child::after {align-self: flex-start;width: 50%;}#sk-container-id-1 div.sk-parallel-item:only-child::after {width: 0;}#sk-container-id-1 div.sk-dashed-wrapped {border: 1px dashed gray;margin: 0 0.4em 0.5em 0.4em;box-sizing: border-box;padding-bottom: 0.4em;background-color: white;}#sk-container-id-1 div.sk-label label {font-family: monospace;font-weight: bold;display: inline-block;line-height: 1.2em;}#sk-container-id-1 div.sk-label-container {text-align: center;}#sk-container-id-1 div.sk-container {/* jupyter's `normalize.less` sets `[hidden] { display: none; }` but bootstrap.min.css set `[hidden] { display: none !important; }` so we also need the `!important` here to be able to override the default hidden behavior on the sphinx rendered scikit-learn.org. See: https://github.com/scikit-learn/scikit-learn/issues/21755 */display: inline-block !important;position: relative;}#sk-container-id-1 div.sk-text-repr-fallback {display: none;}</style><div id=\"sk-container-id-1\" class=\"sk-top-container\"><div class=\"sk-text-repr-fallback\"><pre>LogisticRegression()</pre><b>In a Jupyter environment, please rerun this cell to show the HTML representation or trust the notebook. <br />On GitHub, the HTML representation is unable to render, please try loading this page with nbviewer.org.</b></div><div class=\"sk-container\" hidden><div class=\"sk-item\"><div class=\"sk-estimator sk-toggleable\"><input class=\"sk-toggleable__control sk-hidden--visually\" id=\"sk-estimator-id-1\" type=\"checkbox\" checked><label for=\"sk-estimator-id-1\" class=\"sk-toggleable__label sk-toggleable__label-arrow\">LogisticRegression</label><div class=\"sk-toggleable__content\"><pre>LogisticRegression()</pre></div></div></div></div></div>"
      ],
      "text/plain": [
       "LogisticRegression()"
      ]
     },
     "execution_count": 80,
     "metadata": {},
     "output_type": "execute_result"
    }
   ],
   "source": [
    "#fit model with training data\n",
    "logR.fit(x_train,y_train)"
   ]
  },
  {
   "cell_type": "markdown",
   "id": "55fbb4b8",
   "metadata": {},
   "source": [
    "<b>Step 8:-</b>TESTING"
   ]
  },
  {
   "cell_type": "code",
   "execution_count": 81,
   "id": "24d6c028",
   "metadata": {},
   "outputs": [
    {
     "data": {
      "text/plain": [
       "array([0, 0, 0, ..., 0, 0, 0], dtype=int64)"
      ]
     },
     "execution_count": 81,
     "metadata": {},
     "output_type": "execute_result"
    }
   ],
   "source": [
    "#test the data...predict values of y by giving x_test as input\n",
    "predictions=logR.predict(X_test)\n",
    "predictions"
   ]
  },
  {
   "cell_type": "markdown",
   "id": "e05b0f87",
   "metadata": {},
   "source": [
    "***ACCURACY***"
   ]
  },
  {
   "cell_type": "code",
   "execution_count": 83,
   "id": "b378838a",
   "metadata": {},
   "outputs": [
    {
     "data": {
      "text/plain": [
       "85.06075768406004"
      ]
     },
     "execution_count": 83,
     "metadata": {},
     "output_type": "execute_result"
    }
   ],
   "source": [
    "#import accuracy_score function used to check accuracy level of predicted value with observed values\n",
    "from sklearn.metrics import accuracy_score\n",
    "perf=accuracy_score(Y_test,predictions)\n",
    "perf*100#show result as percentage"
   ]
  },
  {
   "cell_type": "markdown",
   "id": "228a112e",
   "metadata": {},
   "source": [
    "<b>Step 9:-</b>EVALUATION"
   ]
  },
  {
   "cell_type": "code",
   "execution_count": 84,
   "id": "4c49a270",
   "metadata": {},
   "outputs": [],
   "source": [
    "#import metrics used to create cunfusion matrix\n",
    "from sklearn import metrics"
   ]
  },
  {
   "cell_type": "code",
   "execution_count": 86,
   "id": "13bd5abc",
   "metadata": {},
   "outputs": [
    {
     "data": {
      "text/plain": [
       "array([[1179,    3],\n",
       "       [ 206,   11]], dtype=int64)"
      ]
     },
     "execution_count": 86,
     "metadata": {},
     "output_type": "execute_result"
    }
   ],
   "source": [
    "#this will result a matrix which shows us that where errors are made\n",
    "#rows represent actual outcomes and columns represent prediction we made.\n",
    "cm=metrics.confusion_matrix(Y_test,predictions)\n",
    "cm\n",
    "#here 1179 and 11,are correct guess/prediction and 3 is type1 error and 206 is type2 error"
   ]
  },
  {
   "cell_type": "code",
   "execution_count": 88,
   "id": "90ab910a",
   "metadata": {},
   "outputs": [
    {
     "data": {
      "image/png": "[encoded data removed]",
      "text/plain": [
       "<Figure size 500x500 with 2 Axes>"
      ]
     },
     "metadata": {},
     "output_type": "display_data"
    }
   ],
   "source": [
    "#confusion matrix plotting where accuracy level ,confusion matrix values are shown\n",
    "plt.figure(figsize=(5,5))\n",
    "sns.heatmap(cm, annot=True, fmt=\".3f\", linewidths=.5, square = True, cmap = 'inferno');\n",
    "plt.ylabel('Actual label(Survived/Not Survived)');\n",
    "plt.xlabel('Predicted label(Survived/Not Survived)');\n",
    "all_sample_title = 'Accuracy Score: {0}'.format(perf*100)\n",
    "plt.title(all_sample_title, size = 15);"
   ]
  }
 ],
 "metadata": {
  "kernelspec": {
   "display_name": "Python 3 (ipykernel)",
   "language": "python",
   "name": "python3"
  },
  "language_info": {
   "codemirror_mode": {
    "name": "ipython",
    "version": 3
   },
   "file_extension": ".py",
   "mimetype": "text/x-python",
   "name": "python",
   "nbconvert_exporter": "python",
   "pygments_lexer": "ipython3",
   "version": "3.11.3"
  }
 },
 "nbformat": 4,
 "nbformat_minor": 5
}
